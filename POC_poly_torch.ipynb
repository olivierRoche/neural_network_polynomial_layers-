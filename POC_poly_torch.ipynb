{
 "cells": [
  {
   "cell_type": "code",
   "execution_count": 9,
   "metadata": {},
   "outputs": [],
   "source": [
    "from poly_torch import PolynomialLayer\n",
    "import torch\n",
    "import torch.nn as nn\n",
    "import numpy as np\n",
    "from torch.nn.modules import Module\n",
    "from torch._jit_internal import weak_module, weak_script_method\n",
    "from torch.nn.parameter import Parameter\n",
    "from torch.nn.modules.linear import init\n",
    "from math import sqrt\n",
    "import torch.nn.functional as F\n",
    "import torch.optim\n",
    "from tqdm import tqdm_notebook as tqdm\n",
    "import warnings\n",
    "\n",
    "warnings.filterwarnings(\"ignore\")"
   ]
  },
  {
   "cell_type": "code",
   "execution_count": 10,
   "metadata": {},
   "outputs": [],
   "source": [
    "def train(model, device, training, optimizer, size):\n",
    "    model.train()\n",
    "    for batch_idx, (data, target) in tqdm(enumerate(training), total=size):\n",
    "        optimizer.zero_grad()\n",
    "        output = model(data)\n",
    "        loss = torch.nn.MSELoss()\n",
    "        tmenik = loss(output, target)\n",
    "        tmenik.backward()\n",
    "        optimizer.step()"
   ]
  },
  {
   "cell_type": "markdown",
   "metadata": {},
   "source": [
    "initialisation du polynôme cible"
   ]
  },
  {
   "cell_type": "code",
   "execution_count": 11,
   "metadata": {},
   "outputs": [],
   "source": [
    "target_polynomial = PolynomialLayer(degree=2,inp_size=1, out_size=1)\n",
    "\n",
    "target_polynomial.coeff_deg_0 = Parameter(torch.tensor([1.0]))\n",
    "target_polynomial.coeff_deg_1 = Parameter(torch.tensor([2.0]))\n",
    "target_polynomial.coeff_deg_2 = Parameter(torch.tensor([1.0]))\n"
   ]
  },
  {
   "cell_type": "markdown",
   "metadata": {},
   "source": [
    "polynôme à entrainer :"
   ]
  },
  {
   "cell_type": "code",
   "execution_count": 12,
   "metadata": {},
   "outputs": [],
   "source": [
    "poly = PolynomialLayer(degree=2, inp_size=1, out_size=1)"
   ]
  },
  {
   "cell_type": "markdown",
   "metadata": {},
   "source": [
    "création entrainement"
   ]
  },
  {
   "cell_type": "code",
   "execution_count": 13,
   "metadata": {},
   "outputs": [],
   "source": [
    "training = []\n",
    "\n",
    "for i in range(10000):\n",
    "    v = torch.rand(1)\n",
    "    training.append((v, target_polynomial(v)))"
   ]
  },
  {
   "cell_type": "code",
   "execution_count": 14,
   "metadata": {},
   "outputs": [
    {
     "data": {
      "application/vnd.jupyter.widget-view+json": {
       "model_id": "8db44245d8aa4f198440be7d308b8abd",
       "version_major": 2,
       "version_minor": 0
      },
      "text/plain": [
       "HBox(children=(IntProgress(value=0, max=10000), HTML(value='')))"
      ]
     },
     "metadata": {},
     "output_type": "display_data"
    },
    {
     "name": "stdout",
     "output_type": "stream",
     "text": [
      "\n"
     ]
    }
   ],
   "source": [
    "train(poly, torch.device(\"cpu\"), training, optimizer=torch.optim.SGD(poly.parameters(), lr=0.1), size=10000) "
   ]
  },
  {
   "cell_type": "code",
   "execution_count": 17,
   "metadata": {},
   "outputs": [
    {
     "name": "stdout",
     "output_type": "stream",
     "text": [
      "1.0026861429214478 X^2 + 1.9972450733184814 X + 1.0003710985183716\n"
     ]
    }
   ],
   "source": [
    "print(\"{2} X^2 + {1} X + {0}\".format(*[par.item() for par in poly.parameters()]))"
   ]
  },
  {
   "cell_type": "code",
   "execution_count": null,
   "metadata": {},
   "outputs": [],
   "source": []
  },
  {
   "cell_type": "code",
   "execution_count": null,
   "metadata": {},
   "outputs": [],
   "source": []
  }
 ],
 "metadata": {
  "kernelspec": {
   "display_name": "Python 3",
   "language": "python",
   "name": "python3"
  },
  "language_info": {
   "codemirror_mode": {
    "name": "ipython",
    "version": 3
   },
   "file_extension": ".py",
   "mimetype": "text/x-python",
   "name": "python",
   "nbconvert_exporter": "python",
   "pygments_lexer": "ipython3",
   "version": "3.7.3"
  }
 },
 "nbformat": 4,
 "nbformat_minor": 2
}
