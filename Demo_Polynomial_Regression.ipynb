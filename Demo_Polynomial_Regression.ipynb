{
 "cells": [
  {
   "cell_type": "code",
   "execution_count": 1,
   "metadata": {},
   "outputs": [],
   "source": [
    "from poly_torch import PolynomialLayer\n",
    "import torch\n",
    "import torch.nn as nn\n",
    "import numpy as np\n",
    "from torch.nn.modules import Module\n",
    "from torch._jit_internal import weak_module, weak_script_method\n",
    "from torch.nn.parameter import Parameter\n",
    "from torch.nn.modules.linear import init\n",
    "from math import sqrt\n",
    "import torch.nn.functional as F\n",
    "import torch.optim\n",
    "from tqdm import tqdm_notebook as tqdm\n",
    "import matplotlib.pyplot as plt\n",
    "import warnings\n",
    "\n",
    "warnings.filterwarnings(\"ignore\")"
   ]
  },
  {
   "cell_type": "markdown",
   "metadata": {},
   "source": [
    "we perform a polynomial regression by training the nn poly :"
   ]
  },
  {
   "cell_type": "code",
   "execution_count": 2,
   "metadata": {},
   "outputs": [],
   "source": [
    "poly = PolynomialLayer(degree=2, inp_size=1, out_size=1)"
   ]
  },
  {
   "cell_type": "markdown",
   "metadata": {},
   "source": [
    "initialisation of the target polynomial : target_polynomial is 2 X^2 + 3 X + 1"
   ]
  },
  {
   "cell_type": "code",
   "execution_count": 3,
   "metadata": {},
   "outputs": [],
   "source": [
    "target_polynomial = PolynomialLayer(degree=2,inp_size=1, out_size=1)\n",
    "\n",
    "target_polynomial.coeff_deg_0 = Parameter(torch.tensor([1.0]))\n",
    "target_polynomial.coeff_deg_1 = Parameter(torch.tensor([3.0]))\n",
    "target_polynomial.coeff_deg_2 = Parameter(torch.tensor([2.0]))"
   ]
  },
  {
   "cell_type": "markdown",
   "metadata": {},
   "source": [
    "we build the data we'll use to train poly :"
   ]
  },
  {
   "cell_type": "code",
   "execution_count": 4,
   "metadata": {},
   "outputs": [],
   "source": [
    "training = []\n",
    "\n",
    "for i in range(10000):\n",
    "    v = 10.0 * torch.rand(1)\n",
    "    training.append((v, target_polynomial(v) + 5.0 * torch.rand(1) -2.5))"
   ]
  },
  {
   "cell_type": "markdown",
   "metadata": {},
   "source": [
    "first, let's try to train poly without normalization.\n",
    "\n",
    "As one can see, this causes the parameters of poly to overflow :"
   ]
  },
  {
   "cell_type": "code",
   "execution_count": 5,
   "metadata": {},
   "outputs": [
    {
     "name": "stderr",
     "output_type": "stream",
     "text": [
      "100%|███████████████████████████████████████████████████████████████████████████| 10000/10000 [00:11<00:00, 900.49it/s]\n"
     ]
    },
    {
     "name": "stdout",
     "output_type": "stream",
     "text": [
      "[nan, nan, nan]\n"
     ]
    }
   ],
   "source": [
    "poly.fit_to_training(training=training, optimizer=torch.optim.SGD, lr=1.0, normalize=False)\n",
    "\n",
    "print([param.item() for param in poly.parameters()])"
   ]
  },
  {
   "cell_type": "markdown",
   "metadata": {},
   "source": [
    "Now, we use normalization :"
   ]
  },
  {
   "cell_type": "code",
   "execution_count": null,
   "metadata": {},
   "outputs": [
    {
     "name": "stderr",
     "output_type": "stream",
     "text": [
      " 54%|████████████████████████████████████████▋                                   | 5358/10000 [00:07<00:06, 741.61it/s]"
     ]
    }
   ],
   "source": [
    "poly.reset_parameters()\n",
    "\n",
    "poly.fit_to_training(training=training, optimizer=torch.optim.SGD, lr=0.01, normalize=True)"
   ]
  },
  {
   "cell_type": "markdown",
   "metadata": {},
   "source": [
    "Let's see how well we did :\n",
    "\n",
    "We plot a scatter view of our training data (in blue), and the prediction made by the nn poly (in red) :"
   ]
  },
  {
   "cell_type": "code",
   "execution_count": null,
   "metadata": {},
   "outputs": [],
   "source": [
    "training_x = [x.item() for (x,y) in training]\n",
    "training_y = [y.item() for (x,y) in training]\n",
    "t = np.linspace(0,10,1000)\n",
    "network_predictions = [poly(torch.tensor([x])) for x in t]\n",
    "plt.scatter(training_x,training_y,s=0.1,c=(0.2,0.4,0.6,0.5)) #a scatter view of our training set\n",
    "plt.plot(t,network_predictions,'r')\n",
    "plt.show()"
   ]
  },
  {
   "cell_type": "code",
   "execution_count": null,
   "metadata": {},
   "outputs": [],
   "source": [
    "print([param.item() for param in poly.parameters()])"
   ]
  },
  {
   "cell_type": "code",
   "execution_count": null,
   "metadata": {},
   "outputs": [],
   "source": []
  }
 ],
 "metadata": {
  "kernelspec": {
   "display_name": "Python 3",
   "language": "python",
   "name": "python3"
  },
  "language_info": {
   "codemirror_mode": {
    "name": "ipython",
    "version": 3
   },
   "file_extension": ".py",
   "mimetype": "text/x-python",
   "name": "python",
   "nbconvert_exporter": "python",
   "pygments_lexer": "ipython3",
   "version": "3.7.4"
  }
 },
 "nbformat": 4,
 "nbformat_minor": 2
}
